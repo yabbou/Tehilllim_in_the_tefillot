{
  "nbformat": 4,
  "nbformat_minor": 0,
  "metadata": {
    "colab": {
      "name": "Tehillim_in_the_tefillot.ipynb",
      "provenance": [],
      "collapsed_sections": [],
      "authorship_tag": "ABX9TyM62Eb1NKqU8J92334znZQU",
      "include_colab_link": true
    },
    "kernelspec": {
      "name": "python3",
      "display_name": "Python 3"
    },
    "language_info": {
      "name": "python"
    }
  },
  "cells": [
    {
      "cell_type": "markdown",
      "metadata": {
        "id": "view-in-github",
        "colab_type": "text"
      },
      "source": [
        "<a href=\"https://colab.research.google.com/github/yabbou/Tehilllim_in_the_tefillot/blob/main/Tehillim_in_the_tefillot.ipynb\" target=\"_parent\"><img src=\"https://colab.research.google.com/assets/colab-badge.svg\" alt=\"Open In Colab\"/></a>"
      ]
    },
    {
      "cell_type": "markdown",
      "metadata": {
        "id": "diIT0ltfk_53"
      },
      "source": [
        "Sefaria Project\n",
        "==\n",
        "Q. Which Tehillim do our tefillot include?"
      ]
    },
    {
      "cell_type": "code",
      "metadata": {
        "id": "nL26rCWPk2jN"
      },
      "source": [
        "import requests\n",
        "import pandas as pd\n",
        "\n",
        "ashk_siddur_resp = requests.get(\"https://www.sefaria.org/api/links/Siddur_Ashkenaz\")\n",
        "# ashk_siddur_resp = requests.get(\"https://www.sefaria.org/api/links/Psalms\") #alt: search tehllim for siddur references\n",
        "\n",
        "ashk_siddur_tehillim_list = [[tanach_source['commentaryNum'], tanach_source['ref'], [tanach_source['anchorRef']], tanach_source['he']] for tanach_source in ashk_siddur.json() if tanach_source['index_title']=='Psalms']\n",
        "ashk_siddur_tehillim_list.sort()"
      ],
      "execution_count": null,
      "outputs": []
    },
    {
      "cell_type": "markdown",
      "metadata": {
        "id": "tw7S3SXK54rW"
      },
      "source": [
        ""
      ]
    },
    {
      "cell_type": "code",
      "metadata": {
        "id": "ePqPNbrE543T"
      },
      "source": [
        "# **************************************************** Unique chapters **************************************************\n",
        "\n",
        "def getUniqueChaptersANDVerses(siddur_list):\n",
        "  unique_tehillim_chapters_list = [tanach_source[0] for tanach_source in ashk_siddur_tehillim_list if tanach_source[0] % 1 == 0]\n",
        "  # unique_tehillim_verses_list = [tanach_source[0] for tanach_source in ashk_siddur_tehillim_list if tanach_source[0] % 1 > 0] #alt: not in _chapters_list\n",
        "  \n",
        "  unique_tehillim_chapters_set = set([int(chapter) for chapter in unique_tehillim_chapters_list])\n",
        "  unique_tehillim_verses_set = set(unique_tehillim_verses_list)\n",
        "  return unique_tehillim_chapters_set\n",
        "    # , unique_tehillim_verses_set\n",
        "\n",
        "unique_chapters, unique_verses = getUniqueChaptersANDVerses(ashk_siddur_tehillim_list)\n",
        "print(unique_chapters)\n",
        "print(unique_verses)\n",
        "\n",
        "unique_chapters_count = len(unique_chapters)\n",
        "# print(unique_chapters_count) "
      ],
      "execution_count": null,
      "outputs": []
    },
    {
      "cell_type": "markdown",
      "metadata": {
        "id": "3jb4NhU-56s9"
      },
      "source": [
        ""
      ]
    },
    {
      "cell_type": "code",
      "metadata": {
        "id": "GNVEvUhl57Fd"
      },
      "source": [
        "\n",
        "# *************************************************** Merged sources *****************************************************\n",
        "\n",
        "def mergeTehillimSources(siddur_tehillim_list):\n",
        "  PEREK_INDEX = 0\n",
        "  SIDDUR_LOCATION_INDEX = 2\n",
        "\n",
        "  for index, tehillim in enumerate(ashk_siddur_tehillim_list, start=1):\n",
        "    if tehillim[PEREK_INDEX] - ashk_siddur_tehillim_list[index-1][PEREK_INDEX] == 0:\n",
        "      ashk_siddur_tehillim_list[index-1][SIDDUR_LOCATION_INDEX].append(tehillim[index][SIDDUR_LOCATION_INDEX]) \n",
        "      # ashk_siddur_tehillim_list.pop(index)\n",
        "# mergeTehillimSources(ashk_siddur_tehillim_list)\n",
        "\n",
        "# [j.pop(1) for j in test_list]"
      ],
      "execution_count": null,
      "outputs": []
    }
  ]
}