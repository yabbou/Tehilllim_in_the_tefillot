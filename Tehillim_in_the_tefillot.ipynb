{
  "nbformat": 4,
  "nbformat_minor": 0,
  "metadata": {
    "colab": {
      "name": "Tehillim_in_the_tefillot.ipynb",
      "provenance": [],
      "collapsed_sections": [],
      "authorship_tag": "ABX9TyNMb1u87nnHNV+elplsu3Lm",
      "include_colab_link": true
    },
    "kernelspec": {
      "name": "python3",
      "display_name": "Python 3"
    },
    "language_info": {
      "name": "python"
    }
  },
  "cells": [
    {
      "cell_type": "markdown",
      "metadata": {
        "id": "view-in-github",
        "colab_type": "text"
      },
      "source": [
        "<a href=\"https://colab.research.google.com/github/yabbou/Tehilllim_in_the_tefillot/blob/main/Tehillim_in_the_tefillot.ipynb\" target=\"_parent\"><img src=\"https://colab.research.google.com/assets/colab-badge.svg\" alt=\"Open In Colab\"/></a>"
      ]
    },
    {
      "cell_type": "markdown",
      "metadata": {
        "id": "diIT0ltfk_53"
      },
      "source": [
        "Sefaria Project\n",
        "==\n",
        "Q. Which Tehillim do our tefillot include?"
      ]
    },
    {
      "cell_type": "code",
      "metadata": {
        "id": "nL26rCWPk2jN",
        "colab": {
          "base_uri": "https://localhost:8080/",
          "height": 419
        },
        "outputId": "e0b93693-8116-4863-fa33-fcc571b3446c"
      },
      "source": [
        "import requests\n",
        "import pandas as pd\n",
        "\n",
        "def getTextLinksResponse(text):\n",
        "  return requests.get(\"https://www.sefaria.org/api/links/\"+text)\n",
        "\n",
        "def getTehillimDetails(siddur_resp):\n",
        "  return [[tanach_source['commentaryNum'], tanach_source['ref'], [tanach_source['anchorRef']], tanach_source['he']] \n",
        "          for tanach_source in siddur_resp.json() if tanach_source['index_title']=='Psalms']\n",
        "\n",
        "def convertTehillimListToDataframe(tehillim_list):\n",
        "    return pd.DataFrame(tehillim_list, columns=['Index','Chapter Number','Siddur Location','Text'])\n",
        "\n",
        "def getSiddurTehillimList(siddur):  \n",
        "  siddur_resp = getTextLinksResponse(siddur)\n",
        "  siddur_tehillim_list = getTehillimDetails(siddur_resp)\n",
        "  siddur_tehillim_list.sort()\n",
        "  return siddur_tehillim_list\n",
        "\n",
        "ASHK_SIDDUR = 'Siddur_Ashkenaz'\n",
        "ashk_siddur_tehillim_list = getSiddurTehillimList(ASHK_SIDDUR)\n",
        "ashk_siddur_tehillim_df = convertTehillimListToDataframe(ashk_siddur_tehillim_list)\n",
        "ashk_siddur_tehillim_df"
      ],
      "execution_count": null,
      "outputs": [
        {
          "output_type": "execute_result",
          "data": {
            "text/html": [
              "<div>\n",
              "<style scoped>\n",
              "    .dataframe tbody tr th:only-of-type {\n",
              "        vertical-align: middle;\n",
              "    }\n",
              "\n",
              "    .dataframe tbody tr th {\n",
              "        vertical-align: top;\n",
              "    }\n",
              "\n",
              "    .dataframe thead th {\n",
              "        text-align: right;\n",
              "    }\n",
              "</style>\n",
              "<table border=\"1\" class=\"dataframe\">\n",
              "  <thead>\n",
              "    <tr style=\"text-align: right;\">\n",
              "      <th></th>\n",
              "      <th>Index</th>\n",
              "      <th>Chapter Number</th>\n",
              "      <th>Siddur Location</th>\n",
              "      <th>Text</th>\n",
              "    </tr>\n",
              "  </thead>\n",
              "  <tbody>\n",
              "    <tr>\n",
              "      <th>0</th>\n",
              "      <td>3.0000</td>\n",
              "      <td>Psalms 3</td>\n",
              "      <td>[Siddur Ashkenaz, Weekday, Maariv, Keri'at She...</td>\n",
              "      <td>[מִזְמ֥וֹר לְדָוִ֑ד בְּ֝בׇרְח֗וֹ מִפְּנֵ֤י &lt;b&gt;...</td>\n",
              "    </tr>\n",
              "    <tr>\n",
              "      <th>1</th>\n",
              "      <td>3.0002</td>\n",
              "      <td>Psalms 3:2-9</td>\n",
              "      <td>[Siddur Ashkenaz, Weekday, Maariv, Keri'at She...</td>\n",
              "      <td>[יְ֭הֹוָה מָה־רַבּ֣וּ צָרָ֑י רַ֝בִּ֗ים קָמִ֥ים...</td>\n",
              "    </tr>\n",
              "    <tr>\n",
              "      <th>2</th>\n",
              "      <td>3.0009</td>\n",
              "      <td>Psalms 3:9</td>\n",
              "      <td>[Siddur Ashkenaz, Shabbat, Shacharit, Pesukei ...</td>\n",
              "      <td>לַֽיהֹוָ֥ה הַיְשׁוּעָ֑ה עַֽל־עַמְּךָ֖ בִרְכָתֶ...</td>\n",
              "    </tr>\n",
              "    <tr>\n",
              "      <th>3</th>\n",
              "      <td>3.0009</td>\n",
              "      <td>Psalms 3:9</td>\n",
              "      <td>[Siddur Ashkenaz, Weekday, Shacharit, Pesukei ...</td>\n",
              "      <td>לַֽיהֹוָ֥ה הַיְשׁוּעָ֑ה עַֽל־עַמְּךָ֖ בִרְכָתֶ...</td>\n",
              "    </tr>\n",
              "    <tr>\n",
              "      <th>4</th>\n",
              "      <td>4.0005</td>\n",
              "      <td>Psalms 4:5</td>\n",
              "      <td>[Siddur Ashkenaz, Weekday, Maariv, Keri'at She...</td>\n",
              "      <td>רִגְז֗וּ וְֽאַל־תֶּ֫חֱטָ֥אוּ אִמְר֣וּ בִ֭לְבַב...</td>\n",
              "    </tr>\n",
              "    <tr>\n",
              "      <th>...</th>\n",
              "      <td>...</td>\n",
              "      <td>...</td>\n",
              "      <td>...</td>\n",
              "      <td>...</td>\n",
              "    </tr>\n",
              "    <tr>\n",
              "      <th>260</th>\n",
              "      <td>148.0001</td>\n",
              "      <td>Psalms 148:1-6</td>\n",
              "      <td>[Siddur Ashkenaz, Weekday, Maariv, Birkat HaLe...</td>\n",
              "      <td>[הַ֥לְלוּ&lt;span class=\"mam-implicit-maqaf\"&gt;־&lt;/s...</td>\n",
              "    </tr>\n",
              "    <tr>\n",
              "      <th>261</th>\n",
              "      <td>148.0001</td>\n",
              "      <td>Psalms 148:1-6</td>\n",
              "      <td>[Siddur Ashkenaz, Weekday, Maariv, Birkat HaLe...</td>\n",
              "      <td>[הַ֥לְלוּ&lt;span class=\"mam-implicit-maqaf\"&gt;־&lt;/s...</td>\n",
              "    </tr>\n",
              "    <tr>\n",
              "      <th>262</th>\n",
              "      <td>148.0014</td>\n",
              "      <td>Psalms 148:14</td>\n",
              "      <td>[Siddur Ashkenaz, Weekday, Shacharit, Concludi...</td>\n",
              "      <td>וַיָּ֤רֶם קֶ֨רֶן &lt;b&gt;׀&lt;/b&gt; לְעַמּ֡וֹ תְּהִלָּ֤ה...</td>\n",
              "    </tr>\n",
              "    <tr>\n",
              "      <th>263</th>\n",
              "      <td>150.0000</td>\n",
              "      <td>Psalms 150</td>\n",
              "      <td>[Siddur Ashkenaz, Weekday, Maariv, Birkat HaLe...</td>\n",
              "      <td>[הַ֥לְלוּ&lt;span class=\"mam-implicit-maqaf\"&gt;־&lt;/s...</td>\n",
              "    </tr>\n",
              "    <tr>\n",
              "      <th>264</th>\n",
              "      <td>150.0000</td>\n",
              "      <td>Psalms 150</td>\n",
              "      <td>[Siddur Ashkenaz, Weekday, Shacharit, Pesukei ...</td>\n",
              "      <td>[הַ֥לְלוּ&lt;span class=\"mam-implicit-maqaf\"&gt;־&lt;/s...</td>\n",
              "    </tr>\n",
              "  </tbody>\n",
              "</table>\n",
              "<p>265 rows × 4 columns</p>\n",
              "</div>"
            ],
            "text/plain": [
              "        Index  ...                                               Text\n",
              "0      3.0000  ...  [מִזְמ֥וֹר לְדָוִ֑ד בְּ֝בׇרְח֗וֹ מִפְּנֵ֤י <b>...\n",
              "1      3.0002  ...  [יְ֭הֹוָה מָה־רַבּ֣וּ צָרָ֑י רַ֝בִּ֗ים קָמִ֥ים...\n",
              "2      3.0009  ...  לַֽיהֹוָ֥ה הַיְשׁוּעָ֑ה עַֽל־עַמְּךָ֖ בִרְכָתֶ...\n",
              "3      3.0009  ...  לַֽיהֹוָ֥ה הַיְשׁוּעָ֑ה עַֽל־עַמְּךָ֖ בִרְכָתֶ...\n",
              "4      4.0005  ...  רִגְז֗וּ וְֽאַל־תֶּ֫חֱטָ֥אוּ אִמְר֣וּ בִ֭לְבַב...\n",
              "..        ...  ...                                                ...\n",
              "260  148.0001  ...  [הַ֥לְלוּ<span class=\"mam-implicit-maqaf\">־</s...\n",
              "261  148.0001  ...  [הַ֥לְלוּ<span class=\"mam-implicit-maqaf\">־</s...\n",
              "262  148.0014  ...  וַיָּ֤רֶם קֶ֨רֶן <b>׀</b> לְעַמּ֡וֹ תְּהִלָּ֤ה...\n",
              "263  150.0000  ...  [הַ֥לְלוּ<span class=\"mam-implicit-maqaf\">־</s...\n",
              "264  150.0000  ...  [הַ֥לְלוּ<span class=\"mam-implicit-maqaf\">־</s...\n",
              "\n",
              "[265 rows x 4 columns]"
            ]
          },
          "metadata": {},
          "execution_count": 10
        }
      ]
    },
    {
      "cell_type": "markdown",
      "metadata": {
        "id": "tw7S3SXK54rW"
      },
      "source": [
        "Here are the chapters linked in Sefaria's Ashkenaz siddur:"
      ]
    },
    {
      "cell_type": "code",
      "metadata": {
        "id": "ePqPNbrE543T",
        "colab": {
          "base_uri": "https://localhost:8080/"
        },
        "outputId": "423093b4-ab46-4443-d722-d18bcfb7ceb2"
      },
      "source": [
        "def getUniqueChapters(siddur_list):\n",
        "  unique_tehillim_chapters_list = [tanach_source[0] for tanach_source in siddur_list]\n",
        "  unique_tehillim_chapters_set = set([chapter for chapter in unique_tehillim_chapters_list])\n",
        "  return unique_tehillim_chapters_set\n",
        "\n",
        "def getChapterInclusionStatement(nusach, bool):\n",
        "  positive_clause = '' if bool == True else 'NOT '\n",
        "  return 'Chapters ' + positive_clause + 'IN the '+nusach+':'\n",
        "\n",
        "def displayNumberOfChapters(chapters_count):\n",
        "  print('Number of chapters:', len(chapters_count),'\\n')\n",
        "\n",
        "def displayChapters(nusach,conditional,chapters_list):\n",
        "  print(getChapterInclusionStatement(nusach, conditional), chapters_list)\n",
        "  displayNumberOfChapters(chapters_list) \n",
        "\n",
        "def getTehillimNOTInList(tehillim_set):\n",
        "  TEHILLIM_TOTAL = set(range(1,150))\n",
        "  excluded_tehillim = TEHILLIM_TOTAL.difference(tehillim_set)\n",
        "  excluded_tehillim = sorted(excluded_tehillim)\n",
        "  return excluded_tehillim\n",
        "\n",
        "def displayTotal_Included_ExcludedTehillim(nusach,tehillim_list):\n",
        "  unique_chapters = getUniqueChapters(tehillim_list)\n",
        "  unique_chapters = sorted(unique_chapters)\n",
        "  print('ALL verses linked in the '+nusach+':',unique_chapters,'\\n')\n",
        "\n",
        "  partial_chapters_IN_weekday_set = [int(chapter) for chapter in set(unique_chapters)]\n",
        "  partial_chapters_IN_weekday_set = set(partial_chapters_IN_weekday_set)\n",
        "  partial_chapters_IN_weekday_set = sorted(partial_chapters_IN_weekday_set)\n",
        "  displayChapters(nusach, True, partial_chapters_IN_weekday_set)\n",
        "\n",
        "  chapters_NOT_IN_weekday_siddur_set = getTehillimNOTInList(partial_chapters_IN_weekday_set)\n",
        "  displayChapters(nusach, False, chapters_NOT_IN_weekday_siddur_set)\n",
        "  return chapters_NOT_IN_weekday_siddur_set\n",
        "  \n",
        "ashk_excluded = displayTotal_Included_ExcludedTehillim(ASHK_SIDDUR,ashk_siddur_tehillim_list)"
      ],
      "execution_count": null,
      "outputs": [
        {
          "output_type": "stream",
          "name": "stdout",
          "text": [
            "ALL verses linked in the Siddur_Ashkenaz: [3.0, 3.0002, 3.0009, 4.0005, 5.0008, 8.0002, 9.0011, 10.0016, 11.0003, 13.0006, 16.0011, 19.0001, 19.0015, 20.0002, 20.001, 22.0029, 23.0001, 23.0002, 23.0003, 23.0004, 23.0005, 23.0006, 25.0006, 25.0026, 26.0008, 27.0001, 28.0009, 29.0001, 29.0011, 30.0001, 30.0002, 30.0003, 30.0004, 30.0005, 30.0006, 30.0007, 30.0008, 30.0009, 30.001, 30.0011, 30.0012, 30.0013, 31.0006, 32.0007, 33.0002, 33.0006, 33.0009, 33.001, 33.0011, 33.0015, 33.002, 33.0022, 34.0001, 34.0002, 34.0003, 34.0004, 34.0005, 34.0006, 34.0007, 34.0008, 34.0009, 34.001, 34.0011, 34.0012, 34.0013, 36.0008, 36.0009, 36.001, 36.0011, 37.0025, 40.0012, 44.0027, 46.0008, 46.0012, 51.0017, 65.0002, 65.0012, 66.0009, 67.0, 68.002, 68.0035, 68.0036, 69.0014, 72.0018, 72.0019, 78.0038, 78.0061, 79.0003, 79.0008, 79.0009, 79.0013, 81.0, 81.0011, 84.0005, 84.0013, 85.0008, 86.0005, 86.0009, 86.001, 89.0003, 89.0014, 89.0053, 90.0, 90.0001, 91.0001, 92.0001, 92.0003, 93.0, 93.0001, 93.0004, 94.0, 94.0001, 94.0002, 94.0013, 95.0001, 95.0007, 96.0001, 97.0001, 98.0001, 99.0001, 99.0005, 99.0009, 100.0001, 103.001, 103.0014, 103.0019, 104.0001, 104.0002, 104.0031, 105.0001, 105.0002, 105.0003, 105.0004, 105.0005, 106.0047, 113.0002, 113.0004, 115.0002, 115.0018, 116.0006, 118.0025, 119.0142, 121.0, 121.0004, 122.0006, 123.0003, 126.0, 128.0, 130.0003, 130.0004, 132.0008, 132.0013, 135.0001, 135.0004, 135.0013, 135.0021, 136.0001, 136.0007, 136.0013, 136.0025, 137.0, 141.0002, 144.0015, 145.0, 145.0016, 145.0017, 146.0, 146.0001, 146.0002, 146.0008, 146.001, 147.0, 148.0, 148.0001, 148.0014, 150.0] \n",
            "\n",
            "Chapters IN the Siddur_Ashkenaz: [3, 4, 5, 8, 9, 10, 11, 13, 16, 19, 20, 22, 23, 25, 26, 27, 28, 29, 30, 31, 32, 33, 34, 36, 37, 40, 44, 46, 51, 65, 66, 67, 68, 69, 72, 78, 79, 81, 84, 85, 86, 89, 90, 91, 92, 93, 94, 95, 96, 97, 98, 99, 100, 103, 104, 105, 106, 113, 115, 116, 118, 119, 121, 122, 123, 126, 128, 130, 132, 135, 136, 137, 141, 144, 145, 146, 147, 148, 150]\n",
            "Number of chapters: 79 \n",
            "\n",
            "Chapters NOT IN the Siddur_Ashkenaz: [1, 2, 6, 7, 12, 14, 15, 17, 18, 21, 24, 35, 38, 39, 41, 42, 43, 45, 47, 48, 49, 50, 52, 53, 54, 55, 56, 57, 58, 59, 60, 61, 62, 63, 64, 70, 71, 73, 74, 75, 76, 77, 80, 82, 83, 87, 88, 101, 102, 107, 108, 109, 110, 111, 112, 114, 117, 120, 124, 125, 127, 129, 131, 133, 134, 138, 139, 140, 142, 143, 149]\n",
            "Number of chapters: 71 \n",
            "\n"
          ]
        }
      ]
    },
    {
      "cell_type": "code",
      "metadata": {
        "id": "CLL9PHbEsUzi"
      },
      "source": [
        "# import numpy as np\n",
        " \n",
        "# unique_chapters = getUniqueChapters(ashk_siddur_tehillim_list)\n",
        "# unique_chapters = sorted(unique_chapters)\n",
        "\n",
        "# partial_chapters_IN_weekday_set = [int(chapter) for chapter in set(unique_chapters)]\n",
        "# partial_chapters_IN_weekday_set = set(partial_chapters_IN_weekday_set)\n",
        "# partial_chapters_IN_weekday_set = sorted(partial_chapters_IN_weekday_set)\n",
        "\n",
        "# for tens in partial_chapters_IN_weekday_set:\n",
        "#   if tens < TENS:\n",
        "#     tens_grouping.append()\n"
      ],
      "execution_count": null,
      "outputs": []
    },
    {
      "cell_type": "markdown",
      "metadata": {
        "id": "JkY3OZ0s-6rd"
      },
      "source": [
        "Here are some chapters linked in the Edut Ha'mizrach siddur:"
      ]
    },
    {
      "cell_type": "code",
      "metadata": {
        "id": "f0qNFsr0--_g",
        "colab": {
          "base_uri": "https://localhost:8080/"
        },
        "outputId": "915ba290-9a8a-4c0f-aa6f-73aa5510189a"
      },
      "source": [
        "EM_SIDDUR = 'Siddur_Edot_HaMizrach'\n",
        "edut_siddur_tehillim_list = getSiddurTehillimList(EM_SIDDUR)\n",
        "edut_excluded = displayTotal_Included_ExcludedTehillim(EM_SIDDUR, edut_siddur_tehillim_list)"
      ],
      "execution_count": null,
      "outputs": [
        {
          "output_type": "stream",
          "name": "stdout",
          "text": [
            "ALL verses linked in the Siddur_Edot_HaMizrach: [4.0, 6.0, 12.0001, 19.0001, 20.0001, 22.0001, 23.0001, 24.0001, 25.0001, 27.0001, 29.0001, 29.0011, 30.0001, 33.0001, 34.0001, 34.0011, 37.0025, 37.0026, 42.0001, 43.0001, 48.0001, 49.0001, 51.0001, 67.0001, 68.0001, 79.0001, 81.0001, 82.0001, 83.0001, 84.0, 84.0001, 85.0001, 90.0001, 91.0001, 92.0001, 93.0001, 94.0001, 95.0001, 96.0001, 97.0001, 98.0001, 99.0001, 100.0001, 102.0001, 102.0014, 104.0001, 105.0001, 107.0001, 111.0001, 113.0001, 114.0001, 115.0001, 116.0001, 117.0001, 118.0001, 121.0001, 122.0001, 123.0001, 124.0001, 126.0001, 128.0001, 130.0001, 135.0001, 136.0001, 136.0025, 137.0001, 137.0005, 145.0001, 145.0016, 146.0001, 147.0001, 147.0002, 148.0001, 149.0001, 150.0001] \n",
            "\n",
            "Chapters IN the Siddur_Edot_HaMizrach: [4, 6, 12, 19, 20, 22, 23, 24, 25, 27, 29, 30, 33, 34, 37, 42, 43, 48, 49, 51, 67, 68, 79, 81, 82, 83, 84, 85, 90, 91, 92, 93, 94, 95, 96, 97, 98, 99, 100, 102, 104, 105, 107, 111, 113, 114, 115, 116, 117, 118, 121, 122, 123, 124, 126, 128, 130, 135, 136, 137, 145, 146, 147, 148, 149, 150]\n",
            "Number of chapters: 66 \n",
            "\n",
            "Chapters NOT IN the Siddur_Edot_HaMizrach: [1, 2, 3, 5, 7, 8, 9, 10, 11, 13, 14, 15, 16, 17, 18, 21, 26, 28, 31, 32, 35, 36, 38, 39, 40, 41, 44, 45, 46, 47, 50, 52, 53, 54, 55, 56, 57, 58, 59, 60, 61, 62, 63, 64, 65, 66, 69, 70, 71, 72, 73, 74, 75, 76, 77, 78, 80, 86, 87, 88, 89, 101, 103, 106, 108, 109, 110, 112, 119, 120, 125, 127, 129, 131, 132, 133, 134, 138, 139, 140, 141, 142, 143, 144]\n",
            "Number of chapters: 84 \n",
            "\n"
          ]
        }
      ]
    },
    {
      "cell_type": "code",
      "metadata": {
        "colab": {
          "base_uri": "https://localhost:8080/",
          "height": 419
        },
        "id": "aby1y_fViF1o",
        "outputId": "62a13eb8-3c87-4001-ec23-2dbfd84f1840"
      },
      "source": [
        "edut_siddur_tehillim_df = convertTehillimListToDataframe(edut_siddur_tehillim_list)\n",
        "edut_siddur_tehillim_df"
      ],
      "execution_count": null,
      "outputs": [
        {
          "output_type": "execute_result",
          "data": {
            "text/html": [
              "<div>\n",
              "<style scoped>\n",
              "    .dataframe tbody tr th:only-of-type {\n",
              "        vertical-align: middle;\n",
              "    }\n",
              "\n",
              "    .dataframe tbody tr th {\n",
              "        vertical-align: top;\n",
              "    }\n",
              "\n",
              "    .dataframe thead th {\n",
              "        text-align: right;\n",
              "    }\n",
              "</style>\n",
              "<table border=\"1\" class=\"dataframe\">\n",
              "  <thead>\n",
              "    <tr style=\"text-align: right;\">\n",
              "      <th></th>\n",
              "      <th>Index</th>\n",
              "      <th>Chapter Number</th>\n",
              "      <th>Siddur Location</th>\n",
              "      <th>Text</th>\n",
              "    </tr>\n",
              "  </thead>\n",
              "  <tbody>\n",
              "    <tr>\n",
              "      <th>0</th>\n",
              "      <td>4.0000</td>\n",
              "      <td>Psalms 4</td>\n",
              "      <td>[Siddur Edot HaMizrach, Weekday Mincha, Offeri...</td>\n",
              "      <td>[לַמְנַצֵּ֥חַ בִּנְגִינ֗וֹת מִזְמ֥וֹר לְדָוִֽד...</td>\n",
              "    </tr>\n",
              "    <tr>\n",
              "      <th>1</th>\n",
              "      <td>6.0000</td>\n",
              "      <td>Psalms 6</td>\n",
              "      <td>[Siddur Edot HaMizrach, Weekday Shacharit, Bei...</td>\n",
              "      <td>[לַמְנַצֵּ֣חַ בִּ֭נְגִינוֹת עַֽל־הַשְּׁמִינִ֗י...</td>\n",
              "    </tr>\n",
              "    <tr>\n",
              "      <th>2</th>\n",
              "      <td>12.0001</td>\n",
              "      <td>Psalms 12:1-2</td>\n",
              "      <td>[Siddur Edot HaMizrach, Prayers for Three Fest...</td>\n",
              "      <td>[לַמְנַצֵּ֥חַ עַֽל־הַשְּׁמִינִ֗ית מִזְמ֥וֹר לְ...</td>\n",
              "    </tr>\n",
              "    <tr>\n",
              "      <th>3</th>\n",
              "      <td>19.0001</td>\n",
              "      <td>Psalms 19:1-3</td>\n",
              "      <td>[Siddur Edot HaMizrach, Blessing of the Moon 2]</td>\n",
              "      <td>[לַמְנַצֵּ֗חַ מִזְמ֥וֹר לְדָוִֽד׃, הַשָּׁמַ֗יִ...</td>\n",
              "    </tr>\n",
              "    <tr>\n",
              "      <th>4</th>\n",
              "      <td>19.0001</td>\n",
              "      <td>Psalms 19:1-3</td>\n",
              "      <td>[Siddur Edot HaMizrach, Shabbat Shacharit, Psa...</td>\n",
              "      <td>[לַמְנַצֵּ֗חַ מִזְמ֥וֹר לְדָוִֽד׃, הַשָּׁמַ֗יִ...</td>\n",
              "    </tr>\n",
              "    <tr>\n",
              "      <th>...</th>\n",
              "      <td>...</td>\n",
              "      <td>...</td>\n",
              "      <td>...</td>\n",
              "      <td>...</td>\n",
              "    </tr>\n",
              "    <tr>\n",
              "      <th>128</th>\n",
              "      <td>149.0001</td>\n",
              "      <td>Psalms 149:1-2</td>\n",
              "      <td>[Siddur Edot HaMizrach, Shabbat Shacharit, Pes...</td>\n",
              "      <td>[הַ֥לְלוּ&lt;span class=\"mam-implicit-maqaf\"&gt;־&lt;/s...</td>\n",
              "    </tr>\n",
              "    <tr>\n",
              "      <th>129</th>\n",
              "      <td>149.0001</td>\n",
              "      <td>Psalms 149:1-2</td>\n",
              "      <td>[Siddur Edot HaMizrach, Weekday Shacharit, Pes...</td>\n",
              "      <td>[הַ֥לְלוּ&lt;span class=\"mam-implicit-maqaf\"&gt;־&lt;/s...</td>\n",
              "    </tr>\n",
              "    <tr>\n",
              "      <th>130</th>\n",
              "      <td>150.0001</td>\n",
              "      <td>Psalms 150:1-2</td>\n",
              "      <td>[Siddur Edot HaMizrach, Blessing of the Moon 18]</td>\n",
              "      <td>[הַ֥לְלוּ&lt;span class=\"mam-implicit-maqaf\"&gt;־&lt;/s...</td>\n",
              "    </tr>\n",
              "    <tr>\n",
              "      <th>131</th>\n",
              "      <td>150.0001</td>\n",
              "      <td>Psalms 150:1-2</td>\n",
              "      <td>[Siddur Edot HaMizrach, Shabbat Shacharit, Pes...</td>\n",
              "      <td>[הַ֥לְלוּ&lt;span class=\"mam-implicit-maqaf\"&gt;־&lt;/s...</td>\n",
              "    </tr>\n",
              "    <tr>\n",
              "      <th>132</th>\n",
              "      <td>150.0001</td>\n",
              "      <td>Psalms 150:1-2</td>\n",
              "      <td>[Siddur Edot HaMizrach, Weekday Shacharit, Pes...</td>\n",
              "      <td>[הַ֥לְלוּ&lt;span class=\"mam-implicit-maqaf\"&gt;־&lt;/s...</td>\n",
              "    </tr>\n",
              "  </tbody>\n",
              "</table>\n",
              "<p>133 rows × 4 columns</p>\n",
              "</div>"
            ],
            "text/plain": [
              "        Index  ...                                               Text\n",
              "0      4.0000  ...  [לַמְנַצֵּ֥חַ בִּנְגִינ֗וֹת מִזְמ֥וֹר לְדָוִֽד...\n",
              "1      6.0000  ...  [לַמְנַצֵּ֣חַ בִּ֭נְגִינוֹת עַֽל־הַשְּׁמִינִ֗י...\n",
              "2     12.0001  ...  [לַמְנַצֵּ֥חַ עַֽל־הַשְּׁמִינִ֗ית מִזְמ֥וֹר לְ...\n",
              "3     19.0001  ...  [לַמְנַצֵּ֗חַ מִזְמ֥וֹר לְדָוִֽד׃, הַשָּׁמַ֗יִ...\n",
              "4     19.0001  ...  [לַמְנַצֵּ֗חַ מִזְמ֥וֹר לְדָוִֽד׃, הַשָּׁמַ֗יִ...\n",
              "..        ...  ...                                                ...\n",
              "128  149.0001  ...  [הַ֥לְלוּ<span class=\"mam-implicit-maqaf\">־</s...\n",
              "129  149.0001  ...  [הַ֥לְלוּ<span class=\"mam-implicit-maqaf\">־</s...\n",
              "130  150.0001  ...  [הַ֥לְלוּ<span class=\"mam-implicit-maqaf\">־</s...\n",
              "131  150.0001  ...  [הַ֥לְלוּ<span class=\"mam-implicit-maqaf\">־</s...\n",
              "132  150.0001  ...  [הַ֥לְלוּ<span class=\"mam-implicit-maqaf\">־</s...\n",
              "\n",
              "[133 rows x 4 columns]"
            ]
          },
          "metadata": {},
          "execution_count": 14
        }
      ]
    },
    {
      "cell_type": "markdown",
      "metadata": {
        "id": "E9A_yK7fpBsQ"
      },
      "source": [
        "Here are the differnces between the Ashkenaz and Edut Ha'mizrach siddurim:"
      ]
    },
    {
      "cell_type": "code",
      "metadata": {
        "colab": {
          "base_uri": "https://localhost:8080/"
        },
        "id": "zBb4vdGoRv6k",
        "outputId": "89748475-a675-4c1b-d480-d26cbdf5fb98"
      },
      "source": [
        "def displayTehillimLinkDifference(included_set, excluded_set):\n",
        "  diff = sorted(included_set.difference(excluded_set))\n",
        "  print(len(diff),'pessukim:',diff)\n",
        "\n",
        "edut_set = set([source[0] for source in edut_siddur_tehillim_list])\n",
        "ashk_set = set([source[0] for source in ashk_siddur_tehillim_list])\n",
        "\n",
        "displayTehillimLinkDifference(ashk_set, edut_set)\n",
        "displayTehillimLinkDifference(edut_set, ashk_set)"
      ],
      "execution_count": null,
      "outputs": [
        {
          "output_type": "stream",
          "name": "stdout",
          "text": [
            "148 pessukim: [3.0, 3.0002, 3.0009, 4.0005, 5.0008, 8.0002, 9.0011, 10.0016, 11.0003, 13.0006, 16.0011, 19.0015, 20.0002, 20.001, 22.0029, 23.0002, 23.0003, 23.0004, 23.0005, 23.0006, 25.0006, 25.0026, 26.0008, 28.0009, 30.0002, 30.0003, 30.0004, 30.0005, 30.0006, 30.0007, 30.0008, 30.0009, 30.001, 30.0011, 30.0012, 30.0013, 31.0006, 32.0007, 33.0002, 33.0006, 33.0009, 33.001, 33.0011, 33.0015, 33.002, 33.0022, 34.0002, 34.0003, 34.0004, 34.0005, 34.0006, 34.0007, 34.0008, 34.0009, 34.001, 34.0012, 34.0013, 36.0008, 36.0009, 36.001, 36.0011, 40.0012, 44.0027, 46.0008, 46.0012, 51.0017, 65.0002, 65.0012, 66.0009, 67.0, 68.002, 68.0035, 68.0036, 69.0014, 72.0018, 72.0019, 78.0038, 78.0061, 79.0003, 79.0008, 79.0009, 79.0013, 81.0, 81.0011, 84.0005, 84.0013, 85.0008, 86.0005, 86.0009, 86.001, 89.0003, 89.0014, 89.0053, 90.0, 92.0003, 93.0, 93.0004, 94.0, 94.0002, 94.0013, 95.0007, 99.0005, 99.0009, 103.001, 103.0014, 103.0019, 104.0002, 104.0031, 105.0002, 105.0003, 105.0004, 105.0005, 106.0047, 113.0002, 113.0004, 115.0002, 115.0018, 116.0006, 118.0025, 119.0142, 121.0, 121.0004, 122.0006, 123.0003, 126.0, 128.0, 130.0003, 130.0004, 132.0008, 132.0013, 135.0004, 135.0013, 135.0021, 136.0007, 136.0013, 137.0, 141.0002, 144.0015, 145.0, 145.0017, 146.0, 146.0002, 146.0008, 146.001, 147.0, 148.0, 148.0014, 150.0]\n",
            "47 pessukim: [4.0, 6.0, 12.0001, 20.0001, 22.0001, 24.0001, 25.0001, 33.0001, 37.0026, 42.0001, 43.0001, 48.0001, 49.0001, 51.0001, 67.0001, 68.0001, 79.0001, 81.0001, 82.0001, 83.0001, 84.0, 84.0001, 85.0001, 102.0001, 102.0014, 107.0001, 111.0001, 113.0001, 114.0001, 115.0001, 116.0001, 117.0001, 118.0001, 121.0001, 122.0001, 123.0001, 124.0001, 126.0001, 128.0001, 130.0001, 137.0001, 137.0005, 145.0001, 147.0001, 147.0002, 149.0001, 150.0001]\n"
          ]
        }
      ]
    },
    {
      "cell_type": "markdown",
      "metadata": {
        "id": "Jnr854tDZhR7"
      },
      "source": [
        ""
      ]
    },
    {
      "cell_type": "code",
      "metadata": {
        "colab": {
          "base_uri": "https://localhost:8080/"
        },
        "id": "59TfwI0WZgdY",
        "outputId": "a965e207-7d9d-4596-8d83-e07c02b0946c"
      },
      "source": [
        "edut_ashk_set = edut_set.union(ashk_set)\n",
        "\n",
        "def displayChaptersFromTwoNusachim(two_nusachim_set, whole_partial_phrase): \n",
        "  chapters_set = set([int(chapter) for chapter in two_nusachim_set])\n",
        "  chapters_set = getTehillimNOTInList(chapters_set)\n",
        "  print(f'Edut and Ashkenaz siddurim missing {whole_partial_phrase} chapters: ({len(chapters_set)}) \\n{chapters_set}')\n",
        "  \n",
        "edut_ashk_PARTIAL_chapters_set = set([int(chapter) for chapter in edut_ashk_set]) \n",
        "displayChaptersFromTwoNusachim(edut_ashk_PARTIAL_chapters_set,'PARTIAL')\n",
        "\n",
        "POINT_001 = 0.00010000000000331966\n",
        "edut_ashk_WHOLE_chapters_set = set([chapter for chapter in edut_ashk_set if chapter % 1 == 0 or chapter % 1 == POINT_001]) #needs to also account for \"psalms x-y\"\n",
        "displayChaptersFromTwoNusachim(edut_ashk_WHOLE_chapters_set,'WHOLE')"
      ],
      "execution_count": null,
      "outputs": [
        {
          "output_type": "stream",
          "name": "stdout",
          "text": [
            "Edut and Ashkenaz siddurim missing PARTIAL chapters: (55) \n",
            "[1, 2, 7, 14, 15, 17, 18, 21, 35, 38, 39, 41, 45, 47, 50, 52, 53, 54, 55, 56, 57, 58, 59, 60, 61, 62, 63, 64, 70, 71, 73, 74, 75, 76, 77, 80, 87, 88, 101, 108, 109, 110, 112, 120, 125, 127, 129, 131, 133, 134, 138, 139, 140, 142, 143]\n",
            "Edut and Ashkenaz siddurim missing WHOLE chapters: (94) \n",
            "[1, 2, 5, 7, 8, 9, 10, 11, 12, 13, 14, 15, 16, 17, 18, 19, 20, 21, 22, 23, 24, 25, 26, 27, 28, 29, 30, 31, 32, 35, 36, 37, 38, 39, 40, 41, 44, 45, 46, 47, 50, 52, 53, 54, 55, 56, 57, 58, 59, 60, 61, 62, 63, 64, 65, 66, 69, 70, 71, 72, 73, 74, 75, 76, 77, 78, 80, 86, 87, 88, 89, 101, 103, 106, 108, 109, 110, 112, 119, 120, 125, 127, 129, 131, 132, 133, 134, 138, 139, 140, 141, 142, 143, 144]\n"
          ]
        }
      ]
    },
    {
      "cell_type": "markdown",
      "metadata": {
        "id": "iI5K8fbTDd3T"
      },
      "source": [
        "Some siddurim have more tehillim linked than others. \n",
        "\n",
        "Here are ALL the tehillim linked to any siddur by Sefaria (so far):"
      ]
    },
    {
      "cell_type": "code",
      "metadata": {
        "id": "dZj3JjVbDeB-"
      },
      "source": [
        "# tehillim_linked_to_siddurim_resp = requests.get(\"https://www.sefaria.org/api/links/Psalms\").json()\n",
        "# ashk_siddur_tehillim_list = [[tanach_source['commentaryNum'], tanach_source['ref'], [tanach_source['anchorRef']], tanach_source['he']] for tanach_source in ashk_siddur_resp.json() if tanach_source['index_title']=='Psalms']\n",
        "# ashk_siddur_tehillim_list.sort()"
      ],
      "execution_count": null,
      "outputs": []
    },
    {
      "cell_type": "markdown",
      "metadata": {
        "id": "3jb4NhU-56s9"
      },
      "source": [
        ""
      ]
    },
    {
      "cell_type": "code",
      "metadata": {
        "id": "GNVEvUhl57Fd"
      },
      "source": [
        "# *************************************************** Merged sources *****************************************************\n",
        "\n",
        "def mergeTehillimSources(siddur_tehillim_list):\n",
        "  PEREK_INDEX = 0\n",
        "  SIDDUR_LOCATION_INDEX = 2\n",
        "\n",
        "  for index, tehillim in enumerate(ashk_siddur_tehillim_list, start=1):\n",
        "    if tehillim[PEREK_INDEX] - ashk_siddur_tehillim_list[index-1][PEREK_INDEX] == 0:\n",
        "      ashk_siddur_tehillim_list[index-1][SIDDUR_LOCATION_INDEX].append(tehillim[index][SIDDUR_LOCATION_INDEX]) \n",
        "      # ashk_siddur_tehillim_list.pop(index)\n",
        "# mergeTehillimSources(ashk_siddur_tehillim_list)\n",
        "\n",
        "# [j.pop(1) for j in test_list]"
      ],
      "execution_count": null,
      "outputs": []
    }
  ]
}