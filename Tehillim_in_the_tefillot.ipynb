{
  "nbformat": 4,
  "nbformat_minor": 0,
  "metadata": {
    "colab": {
      "name": "Tehillim_in_the_tefillot.ipynb",
      "provenance": [],
      "collapsed_sections": [],
      "authorship_tag": "ABX9TyPgtc3MFiso2qdM8OBJiwgY",
      "include_colab_link": true
    },
    "kernelspec": {
      "name": "python3",
      "display_name": "Python 3"
    },
    "language_info": {
      "name": "python"
    }
  },
  "cells": [
    {
      "cell_type": "markdown",
      "metadata": {
        "id": "view-in-github",
        "colab_type": "text"
      },
      "source": [
        "<a href=\"https://colab.research.google.com/github/yabbou/Tehilllim_in_the_tefillot/blob/main/Tehillim_in_the_tefillot.ipynb\" target=\"_parent\"><img src=\"https://colab.research.google.com/assets/colab-badge.svg\" alt=\"Open In Colab\"/></a>"
      ]
    },
    {
      "cell_type": "markdown",
      "metadata": {
        "id": "diIT0ltfk_53"
      },
      "source": [
        "Sefaria Project\n",
        "==\n",
        "Q. Which Tehillim do our tefillot include?"
      ]
    },
    {
      "cell_type": "code",
      "metadata": {
        "id": "nL26rCWPk2jN"
      },
      "source": [
        "import requests\n",
        "import pandas as pd\n",
        "\n",
        "ashk_siddur_resp = requests.get(\"https://www.sefaria.org/api/links/Siddur_Ashkenaz\")\n",
        "# ashk_siddur_resp = requests.get(\"https://www.sefaria.org/api/links/Psalms\") #alt: search tehllim for siddur references\n",
        "\n",
        "ashk_siddur_tehillim_list = [[tanach_source['commentaryNum'], tanach_source['ref'], [tanach_source['anchorRef']], tanach_source['he']] for tanach_source in ashk_siddur.json() if tanach_source['index_title']=='Psalms']\n",
        "ashk_siddur_tehillim_list.sort()"
      ],
      "execution_count": null,
      "outputs": []
    },
    {
      "cell_type": "markdown",
      "metadata": {
        "id": "tw7S3SXK54rW"
      },
      "source": [
        "Here are the chapters linked in Sefaria's Ashkenaz siddur:"
      ]
    },
    {
      "cell_type": "code",
      "metadata": {
        "id": "ePqPNbrE543T",
        "colab": {
          "base_uri": "https://localhost:8080/"
        },
        "outputId": "21d72e7f-7bcd-4b0e-e078-2670961b7cc1"
      },
      "source": [
        "# **************************************************** Unique chapters ************************************************** \n",
        "\n",
        "def getUniqueChapters(siddur_list):\n",
        "  unique_tehillim_chapters_list = [tanach_source[0] for tanach_source in ashk_siddur_tehillim_list]\n",
        "  unique_tehillim_chapters_set = set([chapter for chapter in unique_tehillim_chapters_list])\n",
        "  return unique_tehillim_chapters_set\n",
        "\n",
        "unique_chapters = getUniqueChapters(ashk_siddur_tehillim_list)\n",
        "unique_chapters = sorted(unique_chapters)\n",
        "print('All verses linked in Ashkenaz Weekday Siddur:',unique_chapters,'\\n')\n",
        "\n",
        "unique_chapters_with_verses = [int(chapter) for chapter in set(unique_chapters)]\n",
        "unique_chapters_with_verses_set = set(unique_chapters_with_verses)\n",
        "print('Unique chapters:', unique_chapters_with_verses_set)\n",
        "print('Unique chapters count:', len(unique_chapters_with_verses_set),'\\n')\n",
        "\n",
        "TEHILLIM_TOTAL = set(range(1,150))\n",
        "chapters_not_in_ashk_weekday_siddur_set = TEHILLIM_TOTAL.difference(unique_chapters_with_verses_set)\n",
        "chapters_not_in_ashk_weekday_siddur_set = sorted(chapters_not_in_ashk_weekday_siddur_set)\n",
        "print(\"Chapters NOT in Ashkenaz Weekday Siddur:\",chapters_not_in_ashk_weekday_siddur_set)\n",
        "print('Unique chapters count:', len(chapters_not_in_ashk_weekday_siddur_set))"
      ],
      "execution_count": 132,
      "outputs": [
        {
          "output_type": "stream",
          "name": "stdout",
          "text": [
            "All verses linked in Ashkenaz Weekday Siddur: [3.0, 3.0002, 3.0009, 4.0005, 5.0008, 8.0002, 9.0011, 10.0016, 11.0003, 13.0006, 16.0011, 19.0001, 19.0015, 20.0002, 20.001, 22.0029, 23.0001, 23.0002, 23.0003, 23.0004, 23.0005, 23.0006, 25.0006, 25.0026, 26.0008, 27.0001, 28.0009, 29.0001, 29.0011, 30.0001, 30.0002, 30.0003, 30.0004, 30.0005, 30.0006, 30.0007, 30.0008, 30.0009, 30.001, 30.0011, 30.0012, 30.0013, 31.0006, 32.0007, 33.0002, 33.0006, 33.0009, 33.001, 33.0011, 33.0015, 33.002, 33.0022, 34.0001, 34.0002, 34.0003, 34.0004, 34.0005, 34.0006, 34.0007, 34.0008, 34.0009, 34.001, 34.0011, 34.0012, 34.0013, 36.0008, 36.0009, 36.001, 36.0011, 37.0025, 40.0012, 44.0027, 46.0008, 46.0012, 51.0017, 65.0002, 65.0012, 66.0009, 67.0, 68.002, 68.0035, 68.0036, 69.0014, 72.0018, 72.0019, 78.0038, 78.0061, 79.0003, 79.0008, 79.0009, 79.0013, 81.0, 81.0011, 84.0005, 84.0013, 85.0008, 86.0005, 86.0009, 86.001, 89.0003, 89.0014, 89.0053, 90.0, 90.0001, 91.0001, 92.0001, 92.0003, 93.0, 93.0001, 93.0004, 94.0, 94.0001, 94.0002, 94.0013, 95.0001, 95.0007, 96.0001, 97.0001, 98.0001, 99.0001, 99.0005, 99.0009, 100.0001, 103.001, 103.0014, 103.0019, 104.0001, 104.0002, 104.0031, 105.0001, 105.0002, 105.0003, 105.0004, 105.0005, 106.0047, 113.0002, 113.0004, 115.0002, 115.0018, 116.0006, 118.0025, 119.0142, 121.0, 121.0004, 122.0006, 123.0003, 126.0, 128.0, 130.0003, 130.0004, 132.0008, 132.0013, 135.0001, 135.0004, 135.0013, 135.0021, 136.0001, 136.0007, 136.0013, 136.0025, 137.0, 141.0002, 144.0015, 145.0, 145.0016, 145.0017, 146.0, 146.0001, 146.0002, 146.0008, 146.001, 147.0, 148.0, 148.0001, 148.0014, 150.0] \n",
            "\n",
            "Unique chapters: {3, 4, 5, 8, 9, 10, 11, 13, 16, 19, 20, 22, 23, 25, 26, 27, 28, 29, 30, 31, 32, 33, 34, 36, 37, 40, 44, 46, 51, 65, 66, 67, 68, 69, 72, 78, 79, 81, 84, 85, 86, 89, 90, 91, 92, 93, 94, 95, 96, 97, 98, 99, 100, 103, 104, 105, 106, 113, 115, 116, 118, 119, 121, 122, 123, 126, 128, 130, 132, 135, 136, 137, 141, 144, 145, 146, 147, 148, 150}\n",
            "Unique chapters count: 79 \n",
            "\n",
            "Chapters NOT in Ashkenaz Weekday Siddur: [1, 2, 6, 7, 12, 14, 15, 17, 18, 21, 24, 35, 38, 39, 41, 42, 43, 45, 47, 48, 49, 50, 52, 53, 54, 55, 56, 57, 58, 59, 60, 61, 62, 63, 64, 70, 71, 73, 74, 75, 76, 77, 80, 82, 83, 87, 88, 101, 102, 107, 108, 109, 110, 111, 112, 114, 117, 120, 124, 125, 127, 129, 131, 133, 134, 138, 139, 140, 142, 143, 149]\n",
            "Unique chapters count: 71\n"
          ]
        }
      ]
    },
    {
      "cell_type": "markdown",
      "metadata": {
        "id": "JkY3OZ0s-6rd"
      },
      "source": [
        "Here are some chapters linked in the Edut Ha'mizrach siddur:"
      ]
    },
    {
      "cell_type": "code",
      "metadata": {
        "id": "f0qNFsr0--_g"
      },
      "source": [
        ""
      ],
      "execution_count": null,
      "outputs": []
    },
    {
      "cell_type": "markdown",
      "metadata": {
        "id": "3jb4NhU-56s9"
      },
      "source": [
        ""
      ]
    },
    {
      "cell_type": "code",
      "metadata": {
        "id": "GNVEvUhl57Fd"
      },
      "source": [
        "# *************************************************** Merged sources *****************************************************\n",
        "\n",
        "def mergeTehillimSources(siddur_tehillim_list):\n",
        "  PEREK_INDEX = 0\n",
        "  SIDDUR_LOCATION_INDEX = 2\n",
        "\n",
        "  for index, tehillim in enumerate(ashk_siddur_tehillim_list, start=1):\n",
        "    if tehillim[PEREK_INDEX] - ashk_siddur_tehillim_list[index-1][PEREK_INDEX] == 0:\n",
        "      ashk_siddur_tehillim_list[index-1][SIDDUR_LOCATION_INDEX].append(tehillim[index][SIDDUR_LOCATION_INDEX]) \n",
        "      # ashk_siddur_tehillim_list.pop(index)\n",
        "# mergeTehillimSources(ashk_siddur_tehillim_list)\n",
        "\n",
        "# [j.pop(1) for j in test_list]"
      ],
      "execution_count": null,
      "outputs": []
    }
  ]
}